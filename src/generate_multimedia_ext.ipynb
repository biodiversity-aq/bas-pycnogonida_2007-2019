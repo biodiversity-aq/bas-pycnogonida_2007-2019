{
 "cells": [
  {
   "cell_type": "markdown",
   "source": [
    "# Generate multimedia extension of Pycnogonida dataset\n",
    "\n",
    "This script serves to get the link of image file using BOLD REST API based on the BOLD process ID provided.\n",
    "\n",
    "Ideally multimedia extension was planned to be used, however information such as `copyright_holder`, `media_descriptor`\n",
    "are not exposed through BOLD REST API even though the information are available in the download file on specimen page.\n",
    " e.g. https://boldsystems.org/index.php/Public_RecordView?processid=DSPYC066-11\n",
    "\n",
    "From download file:\n",
    "\n",
    "```xml\n",
    "<specimen_imagery>\n",
    "    <media>\n",
    "        <mediaID>1441700</mediaID>\n",
    "        <media_descriptor>Ventral</media_descriptor>\n",
    "        <copyright>\n",
    "            <copyright_holder>Chester Sands</copyright_holder>\n",
    "            <copyright_year>2012</copyright_year>\n",
    "            <copyright_license>CreativeCommons - Attribution Non-Commercial Share-Alike</copyright_license>\n",
    "            <copyright_institution>British Antarctic Survey</copyright_institution>\n",
    "        </copyright>\n",
    "        <photographer>Jana Dmel</photographer>\n",
    "        <image_file>http://www.boldsystems.org/pics/DSPYC/_DSC1995+1318537548.JPG</image_file>\n",
    "    </media>\n",
    "    <media>\n",
    "        <mediaID>1441704</mediaID>\n",
    "        <media_descriptor>Dorsal</media_descriptor>\n",
    "        <copyright>\n",
    "            <copyright_holder>Chester Sands</copyright_holder>\n",
    "            <copyright_year>2012</copyright_year>\n",
    "            <copyright_license>CreativeCommons - Attribution Non-Commercial Share-Alike</copyright_license>\n",
    "            <copyright_institution>British Antarctic Survey</copyright_institution>\n",
    "        </copyright>\n",
    "        <photographer>Jana Dmel</photographer>\n",
    "        <image_file>http://www.boldsystems.org/pics/DSPYC/_DSC1997+1318537624.JPG</image_file>\n",
    "    </media>\n",
    "</specimen_imagery>\n",
    "```\n",
    "\n",
    "From API:\n",
    "\n",
    "http://v3.boldsystems.org/index.php/API_Public/specimen?ids=DSPYC066-11\n",
    "\n",
    "```xml\n",
    "<specimen_imagery>\n",
    "    <media>\n",
    "        <mediaID>1441700</mediaID>\n",
    "        <caption />\n",
    "        <metatags />\n",
    "        <copyright>CreativeCommons - Attribution Non-Commercial Share-Alike</copyright>\n",
    "        <image_file>http://v3.boldsystems.org/pics/DSPYC/_DSC1995+1318537548.JPG</image_file>\n",
    "    </media>\n",
    "    <media>\n",
    "        <mediaID>1441704</mediaID>\n",
    "        <caption />\n",
    "        <metatags />\n",
    "        <copyright>CreativeCommons - Attribution Non-Commercial Share-Alike</copyright>\n",
    "        <image_file>http://v3.boldsystems.org/pics/DSPYC/_DSC1997+1318537624.JPG</image_file>\n",
    "    </media>\n",
    "</specimen_imagery>\n",
    "```\n",
    "\n",
    "Hence, the link of images will only be used to populate the `associatedMedia` field.\n",
    "\n",
    "## Read occurrence sheet published through google sheet"
   ],
   "metadata": {
    "collapsed": false,
    "pycharm": {
     "name": "#%% md\n"
    }
   }
  },
  {
   "cell_type": "code",
   "execution_count": 67,
   "outputs": [
    {
     "data": {
      "text/plain": "Index(['eventID', 'occurrenceID', 'verbatimKingdom', 'verbatimPhylum',\n       'verbatimClass', 'verbatimOrder', 'verbatimFamily ', 'verbatimGenus',\n       'Species', 'verbatimScientificName ', 'scientificName ',\n       'identificationQuantifier ', 'taxonRank', 'identificationRemarks ',\n       'individualCount', 'Identified by', 'identifiedByID',\n       'Physical specimen?', 'institutionCode', 'institutionID', 'BOLD',\n       'BOLD_ID', 'associatedOccurrences', 'occurrenceRemarks', 'epifauna',\n       'eggs_young', 'sex', 'lifeStage', 'Gear', 'samplingGear',\n       'cruiseReport', 'samplingProtocol', 'verbatimEventDate', 'Day', 'Month',\n       'Year ', 'eventDate', 'verbatimLatitude', 'End_Lat', 'decimalLatitude',\n       'verbatimLongitude', 'End_Long', 'decimalLongitude',\n       'coordinatePrecision', 'coordinateUncertaintyInMeters', 'footprintWKT',\n       'geodeticDatum', 'minimumDepthInMeters', 'maximumDepthInMeters',\n       'fieldNumber', 'eventRemarks', 'scientificNameID', 'kingdom', 'phylum',\n       'class', 'order', 'family', 'genus', 'specificEpithet',\n       'infraspecificEpithet', 'scientificNameAuthorship', 'basisOfRecord',\n       'occurrenceStatus', 'preparations', 'associatedMedia'],\n      dtype='object')"
     },
     "execution_count": 67,
     "metadata": {},
     "output_type": "execute_result"
    }
   ],
   "source": [
    "import pandas as pd\n",
    "\n",
    "occ_url = \"https://docs.google.com/spreadsheets/d/e/2PACX-1vTei7SwuwPhXU1pYD_QU3nANM5JXjZW6ti-gt2BjVFoq0mqPcrXdVDXXeF2L2etG_gbuQXz53KSfI4H/pub?gid=0&single=true&output=csv\"\n",
    "df = pd.read_csv(occ_url)\n",
    "df.head()\n",
    "df.columns"
   ],
   "metadata": {
    "collapsed": false,
    "pycharm": {
     "name": "#%%\n"
    }
   }
  },
  {
   "cell_type": "markdown",
   "source": [
    "## Get occurrenceID and BOLD ID"
   ],
   "metadata": {
    "collapsed": false
   }
  },
  {
   "cell_type": "code",
   "execution_count": 68,
   "outputs": [
    {
     "data": {
      "text/plain": "array(['NUIG006-20', 'NUIG002-20', 'NUIG013-20', 'NUIG003-20',\n       'NUIG001-20', 'NUIG012-20', 'NUIG005-20', 'NUIG008-20',\n       'NUIG009-20', 'NUIG010-20', 'NUIG011-20', 'NUIG004-20',\n       'NUIG007-20', 'NUIG014-20', 'NUIG017-20', 'NUIG018-20',\n       'NUIG019-20', 'NUIG034-20', 'NUIG022-20', 'NUIG023-20',\n       'NUIG029-20', 'NUIG030-20', 'NUIG031-20', 'NUIG032-20',\n       'NUIG024-20', 'NUIG036-20', 'NUIG042-20', 'NUIG299-20',\n       'NUIG055-20', 'NUIG089-20', 'NUIG262-20', 'NUIG263-20',\n       'NUIG317-20', 'NUIG266-20', 'NUIG274-20', 'NUIG308-20',\n       'NUIG093-20', 'NUIG098-20', 'NUIG222-20', 'NUIG277-20',\n       'NUIG284-20', 'NUIG289-20', 'NUIG294-20', 'NUIG298-20',\n       'NUIG309-20', 'NUIG314-20', 'NUIG325-20', 'NUIG332-20',\n       'NUIG336-20', 'NUIG340-20', 'NUIG048-20', 'NUIG086-20',\n       'NUIG090-20', 'NUIG094-20', 'NUIG108-20', 'NUIG119-20',\n       'NUIG144-20', 'NUIG159-20', 'NUIG170-20', 'NUIG188-20',\n       'NUIG181-20', 'NUIG191-20', 'NUIG205-20', 'NUIG217-20',\n       'NUIG218-20', 'NUIG223-20', 'NUIG224-20', 'NUIG037-20',\n       'NUIG241-20', 'NUIG246-20', 'NUIG272-20', 'NUIG273-20',\n       'NUIG276-20', 'NUIG301-20', 'NUIG296-20', 'NUIG304-20',\n       'NUIG302-20', 'NUIG319-20', 'NUIG323-20', 'NUIG326-20',\n       'NUIG334-20', 'NUIG052-20', 'NUIG060-20', 'NUIG070-20',\n       'NUIG080-20', 'NUIG100-20', 'NUIG101-20', 'NUIG104-20',\n       'NUIG148-20', 'NUIG161-20', 'NUIG176-20', 'NUIG178-20',\n       'NUIG221-20', 'NUIG233-20', 'NUIG239-20', 'NUIG267-20',\n       'NUIG229-20', 'NUIG278-20', 'NUIG279-20', 'NUIG280-20',\n       'NUIG285-20', 'NUIG282-20', 'NUIG283-20', 'NUIG291-20',\n       'NUIG290-20', 'NUIG044-20', 'NUIG295-20', 'NUIG300-20',\n       'NUIG303-20', 'NUIG305-20', 'NUIG306-20', 'NUIG307-20',\n       'NUIG310-20', 'NUIG315-20', 'NUIG316-20', 'NUIG343-20',\n       'NUIG321-20', 'NUIG322-20', 'NUIG320-20', 'NUIG324-20',\n       'NUIG331-20', 'NUIG328-20', 'NUIG329-20', 'NUIG330-20',\n       'NUIG337-20', 'NUIG341-20', 'NUIG342-20', 'NUIG054-20',\n       'NUIG053-20', 'NUIG045-20', 'NUIG046-20', 'NUIG047-20',\n       'NUIG056-20', 'NUIG049-20', 'NUIG050-20', 'NUIG051-20',\n       'NUIG057-20', 'NUIG058-20', 'NUIG059-20', 'NUIG061-20',\n       'NUIG062-20', 'NUIG067-20', 'NUIG068-20', 'NUIG069-20',\n       'NUIG063-20', 'NUIG064-20', 'NUIG065-20', 'NUIG066-20',\n       'NUIG075-20', 'NUIG074-20', 'NUIG073-20', 'NUIG079-20',\n       'NUIG078-20', 'NUIG077-20', 'NUIG083-20', 'NUIG082-20',\n       'NUIG084-20', 'NUIG085-20', 'NUIG081-20', 'NUIG087-20',\n       'NUIG092-20', 'NUIG096-20', 'NUIG097-20', 'NUIG099-20',\n       'NUIG110-20', 'NUIG111-20', 'NUIG112-20', 'NUIG126-20',\n       'NUIG127-20', 'NUIG128-20', 'NUIG113-20', 'NUIG114-20',\n       'NUIG115-20', 'NUIG123-20', 'NUIG124-20', 'NUIG125-20',\n       'NUIG109-20', 'NUIG122-20', 'NUIG117-20', 'NUIG130-20',\n       'NUIG116-20', 'NUIG106-20', 'NUIG118-20', 'NUIG145-20',\n       'NUIG146-20', 'NUIG131-20', 'NUIG132-20', 'NUIG133-20',\n       'NUIG134-20', 'NUIG135-20', 'NUIG140-20', 'NUIG142-20',\n       'NUIG143-20', 'NUIG136-20', 'NUIG141-20', 'NUIG177-20',\n       'NUIG149-20', 'NUIG150-20', 'NUIG163-20', 'NUIG164-20',\n       'NUIG152-20', 'NUIG153-20', 'NUIG154-20', 'NUIG172-20',\n       'NUIG173-20', 'NUIG174-20', 'NUIG175-20', 'NUIG169-20',\n       'NUIG166-20', 'NUIG155-20', 'NUIG158-20', 'NUIG168-20',\n       'NUIG187-20', 'NUIG185-20', 'NUIG182-20', 'NUIG183-20',\n       'NUIG184-20', 'NUIG179-20', 'NUIG186-20', 'NUIG198-20',\n       'NUIG194-20', 'NUIG195-20', 'NUIG196-20', 'NUIG189-20',\n       'NUIG190-20', 'NUIG192-20', 'NUIG197-20', 'NUIG212-20',\n       'NUIG201-20', 'NUIG202-20', 'NUIG203-20', 'NUIG206-20',\n       'NUIG211-20', 'NUIG200-20', 'NUIG208-20', 'NUIG214-20',\n       'NUIG204-20', 'NUIG213-20', 'NUIG207-20', 'NUIG215-20',\n       'NUIG216-20', 'NUIG227-20', 'NUIG226-20', 'NUIG225-20',\n       'NUIG232-20', 'NUIG230-20', 'NUIG234-20', 'NUIG237-20',\n       'NUIG238-20', 'NUIG236-20', 'NUIG038-20', 'NUIG039-20',\n       'NUIG244-20', 'NUIG243-20', 'NUIG240-20', 'NUIG255-20',\n       'NUIG256-20', 'NUIG252-20', 'NUIG253-20', 'NUIG254-20',\n       'NUIG249-20', 'NUIG250-20', 'NUIG251-20', 'NUIG258-20',\n       'NUIG259-20', 'NUIG260-20', 'NUIG261-20', 'NUIG264-20',\n       'NUIG269-20', 'NUIG270-20', 'NUIG271-20', 'NUIG235-20',\n       'NUIG041-20', 'NUIG275-20', 'NUIG286-20', 'NUIG288-20',\n       'NUIG043-20', 'NUIG293-20', 'NUIG297-20', 'NUIG311-20',\n       'NUIG312-20', 'NUIG313-20', 'NUIG327-20', 'NUIG335-20',\n       'NUIG333-20', 'NUIG339-20', 'NUIG338-20', 'NUIG091-20',\n       'NUIG095-20', 'NUIG121-20', 'NUIG107-20', 'NUIG102-20',\n       'NUIG105-20', 'NUIG120-20', 'NUIG129-20', 'NUIG139-20',\n       'NUIG137-20', 'NUIG138-20', 'NUIG171-20', 'NUIG157-20',\n       'NUIG162-20', 'NUIG167-20', 'NUIG156-20', 'NUIG180-20',\n       'NUIG193-20', 'NUIG199-20', 'NUIG209-20', 'NUIG228-20',\n       'NUIG231-20', 'NUIG040-20', 'NUIG242-20', 'NUIG245-20',\n       'NUIG247-20', 'NUIG248-20', 'NUIG265-20', 'NUIG268-20',\n       'NUIG103-20', 'NUIG160-20', 'NUIG076-20', 'NUIG318-20',\n       'NUIG071-20', 'NUIG487-21', 'NUIG525-21', 'NUIG541-21',\n       'NUIG536-21', 'NUIG537-21', 'NUIG521-21', 'NUIG521-22',\n       'NUIG529-21', 'NUIG551-21', 'NUIG556-21', 'NUIG484-21',\n       'NUIG496-21', 'NUIG497-21', 'NUIG503-21', 'NUIG504-21',\n       'NUIG505-21', 'NUIG506-21', 'NUIG507-21', 'NUIG508-21',\n       'NUIG509-21', 'NUIG510-21', 'NUIG511-21', 'NUIG512-21',\n       'NUIG513-21', 'NUIG515-21', 'NUIG516-21', 'NUIG565-21',\n       'NUIG574-21', 'NUIG545-21', 'NUIG527-21', 'NUIG534-21',\n       'NUIG520-21', 'NUIG533-21', 'NUIG560-21', 'NUIG488-21',\n       'NUIG494-21', 'NUIG493-21', 'NUIG538-21', 'NUIG518-21',\n       'NUIG517-21', 'NUIG559-21', 'NUIG498-21', 'NUIG561-21',\n       'NUIG562-21', 'NUIG563-21', 'NUIG564-21', 'NUIG573-21',\n       'NUIG570-21', 'NUIG566-21', 'NUIG571-21', 'NUIG567-21',\n       'NUIG489-21', 'NUIG490-21', 'NUIG486-21', 'NUIG524-21',\n       'NUIG522-21', 'NUIG540-21', 'NUIG535-21', 'NUIG549-21',\n       'NUIG552-21', 'NUIG553-21', 'NUIG554-21', 'NUIG548-21',\n       'NUIG555-21', 'NUIG558-21', 'NUIG557-21', 'NUIG491-21',\n       'NUIG531-21', 'NUIG526-21', 'NUIG530-21', 'NUIG485-21',\n       'NUIG492-21', 'NUIG544-21', 'NUIG523-21', 'NUIG532-21',\n       'NUIG657-21', 'NUIG658-21', 'NUIG659-21', 'NUIG660-21',\n       'NUIG661-21', 'NUIG662-21', 'NUIG663-21', 'NUIG664-21',\n       'NUIG665-21', 'NUIG547-21', 'NUIG546-21', 'NUIG519-21',\n       'NUIG542-21', 'NUIG543-21', 'NUIG391-21', 'NUIG407-21',\n       'NUIG356-20', 'NUIG357-20', 'NUIG436-21', 'NUIG359-20',\n       'NUIG453-21', 'NUIG351-20', 'NUIG411-21', 'NUIG470-21',\n       'NUIG475-21', 'NUIG483-21', 'NUIG383-21', 'NUIG429-21',\n       'NUIG456-21', 'NUIG426-21', 'NUIG427-21', 'NUIG430-21',\n       'NUIG431-21', 'NUIG432-21', 'NUIG434-21', 'NUIG454-21',\n       'NUIG455-21', 'NUIG437-21', 'NUIG381-21', 'NUIG382-21',\n       'NUIG438-21', 'NUIG441-21', 'NUIG442-21', 'NUIG444-21',\n       'NUIG446-21', 'NUIG447-21', 'NUIG448-21', 'NUIG452-21',\n       'NUIG451-21', 'NUIG457-21', 'NUIG460-21', 'NUIG461-21',\n       'NUIG347-20', 'NUIG462-21', 'NUIG463-21', 'NUIG464-21',\n       'NUIG467-21', 'NUIG469-21', 'NUIG472-21', 'NUIG473-21',\n       'NUIG480-21', 'NUIG481-21', 'NUIG482-21', 'NUIG384-21',\n       'NUIG385-21', 'NUIG387-21', 'NUIG388-21', 'NUIG389-21',\n       'NUIG390-21', 'NUIG396-21', 'NUIG392-21', 'NUIG393-21',\n       'NUIG395-21', 'NUIG398-21', 'NUIG403-21', 'NUIG400-21',\n       'NUIG399-21', 'NUIG406-21', 'NUIG405-21', 'NUIG408-21',\n       'NUIG412-21', 'NUIG415-21', 'NUIG417-21', 'NUIG416-21',\n       'NUIG421-21', 'NUIG420-21', 'NUIG422-21', 'NUIG425-21',\n       'NUIG358-20', 'NUIG433-21', 'NUIG435-21', 'NUIG439-21',\n       'NUIG440-21', 'NUIG443-21', 'NUIG445-21', 'NUIG449-21',\n       'NUIG459-21', 'NUIG458-21', 'NUIG465-21', 'NUIG466-21',\n       'NUIG468-21', 'NUIG471-21', 'NUIG476-21', 'NUIG474-21',\n       'NUIG478-21', 'NUIG386-21', 'NUIG397-21', 'NUIG353-20',\n       'NUIG409-21', 'NUIG354-20', 'NUIG410-21', 'NUIG355-20',\n       'NUIG413-21', 'NUIG418-21', 'NUIG419-21', 'NUIG424-21',\n       'NUIG450-21', 'NUIG352-20', 'NUIG649-21', 'NUIG650-21',\n       'NUIG651-21', 'NUIG652-21', 'NUIG653-21', 'NUIG654-21',\n       'NUIG655-21', 'NUIG656-21', 'NUIG394-21', 'NUIG401-21',\n       'NUIG404-21', 'NUIG428-21', 'NUIG402-21', 'NUIG414-21',\n       'NUIG368-20', 'NUIG369-20', 'NUIG370-20', 'NUIG372-20',\n       'NUIG360-20', 'NUIG378-20', 'NUIG379-20', 'NUIG371-20',\n       'NUIG380-20', 'NUIG366-20', 'NUIG367-20', 'NUIG377-20',\n       'NUIG376-20', 'NUIG361-20', 'NUIG362-20', 'NUIG363-20',\n       'NUIG365-20', 'NUIG364-20', 'NUIG375-20', 'NUIG625-21',\n       'NUIG622-21', 'DSPYC102-11', 'DSPYC108-11', 'DSPYC066-11',\n       'DSPYC032-11', 'DSPYC018-11', 'DSPYC038-11', 'DSPYC034-11',\n       'DSPYC026-11', 'DSPYC040-11', 'DSPYC059-11', 'DSPYC031-11',\n       'DSPYC046-11', 'DSPYC039-11', 'DSPYC072-11', 'DSPYC054-11',\n       'DSPYC043-11', 'DSPYC036-11', 'DSPYC017-11', 'DSPYC145-11',\n       'DSPYC028-11', 'DSPYC012-11', 'DSPYC024-11', 'DSPYC014-11',\n       'DSPYC139-11', 'DSPYC140-11', 'DSPYC127-11', 'DSPYC010-11',\n       'DSPYC020-11', 'DSPYC190-11', 'DSPYC042-11', 'DSPYC022-11',\n       'DSPYC019-11', 'DSPYC023-11', 'DSPYC009-11', 'DSPYC172-11',\n       'DSPYC160-11', 'DSPYC153-11', 'DSPYC173-11', 'DSPYC177-11',\n       'DSPYC033-11', 'NUIG589-21', 'NUIG581-21', 'NUIG606-21',\n       'NUIG616-21', 'NUIG595-21', 'NUIG596-21', 'NUIG597-21',\n       'NUIG613-21', 'NUIG614-21', 'NUIG603-21', 'NUIG602-21',\n       'NUIG604-21', 'NUIG605-21', 'NUIG582-21', 'NUIG607-21',\n       'NUIG609-21', 'NUIG610-21', 'NUIG612-21', 'NUIG583-21',\n       'NUIG584-21', 'NUIG585-21', 'NUIG586-21', 'NUIG587-21',\n       'NUIG588-21', 'NUIG590-21', 'NUIG591-21', 'NUIG592-21',\n       'NUIG598-21', 'NUIG600-21', 'NUIG599-21', 'NUIG601-21',\n       'NUIG615-21', 'NUIG593-21', 'NUIG594-21'], dtype=object)"
     },
     "execution_count": 68,
     "metadata": {},
     "output_type": "execute_result"
    }
   ],
   "source": [
    "occ_bold = df[['occurrenceID', 'BOLD_ID']]\n",
    "occ_bold = occ_bold[occ_bold['BOLD_ID'].notna()]\n",
    "\n",
    "# get unique BOLD ID\n",
    "bold_ids = occ_bold.BOLD_ID.unique()\n",
    "bold_ids"
   ],
   "metadata": {
    "collapsed": false,
    "pycharm": {
     "name": "#%%\n"
    }
   }
  },
  {
   "cell_type": "markdown",
   "source": [
    "# Retrieve link to images\n",
    "\n",
    "Retrieve link to images using specimen data retrieval endpoints. Documentation of web services at:\n",
    "https://v3.boldsystems.org/index.php/resources/api?type=webservices#combined"
   ],
   "metadata": {
    "collapsed": false
   }
  },
  {
   "cell_type": "code",
   "execution_count": 69,
   "outputs": [],
   "source": [
    "import requests\n",
    "import defusedxml.ElementTree as ET\n",
    "\n",
    "bold_imgs = []\n",
    "BASE_URL = \"http://v3.boldsystems.org/index.php/API_Public/specimen?\"\n",
    "\n",
    "for bold_id in bold_ids:\n",
    "    # only get image link if BOLD_ID has DSPY because NUI ones are not public yet\n",
    "    if bold_id.find('DSPY') == 0:\n",
    "        image_list = []\n",
    "        response = requests.get(BASE_URL, params={'ids': bold_id, 'format': 'xml'})\n",
    "        content = response.text\n",
    "        if content:\n",
    "            etree = ET.fromstring(content)\n",
    "            image_links = etree.findall(\".//specimen_imagery/media/image_file\")\n",
    "            for img in image_links:\n",
    "                image_list.append(img.text)\n",
    "            images = ' | '.join(image_list)  # join multiple image links with pipes\n",
    "            bold_img = [bold_id, images]\n",
    "            bold_imgs.append(bold_img)"
   ],
   "metadata": {
    "collapsed": false,
    "pycharm": {
     "name": "#%%\n"
    }
   }
  },
  {
   "cell_type": "markdown",
   "source": [
    "# Write data into csv file"
   ],
   "metadata": {
    "collapsed": false
   }
  },
  {
   "cell_type": "code",
   "execution_count": 70,
   "outputs": [],
   "source": [
    "import datetime\n",
    "import csv\n",
    "\n",
    "file_name = \"../data/generated/{}_bold-img.csv\".format(datetime.datetime.now().date())\n",
    "with open(file_name, 'w') as f:\n",
    "    writer = csv.writer(f)\n",
    "    writer.writerow(['BOLD_ID', 'associatedMedia'])\n",
    "    writer.writerows(bold_imgs)\n"
   ],
   "metadata": {
    "collapsed": false,
    "pycharm": {
     "name": "#%%\n"
    }
   }
  }
 ],
 "metadata": {
  "kernelspec": {
   "display_name": "Python 3",
   "language": "python",
   "name": "python3"
  },
  "language_info": {
   "codemirror_mode": {
    "name": "ipython",
    "version": 2
   },
   "file_extension": ".py",
   "mimetype": "text/x-python",
   "name": "python",
   "nbconvert_exporter": "python",
   "pygments_lexer": "ipython2",
   "version": "2.7.6"
  }
 },
 "nbformat": 4,
 "nbformat_minor": 0
}